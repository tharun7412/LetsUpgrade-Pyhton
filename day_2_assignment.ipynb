{
  "nbformat": 4,
  "nbformat_minor": 0,
  "metadata": {
    "colab": {
      "name": "day 2 assignment.ipynb",
      "provenance": [],
      "collapsed_sections": [],
      "authorship_tag": "ABX9TyOLDB1wMTZ1Olia+2ZGs4CT",
      "include_colab_link": true
    },
    "kernelspec": {
      "name": "python3",
      "display_name": "Python 3"
    }
  },
  "cells": [
    {
      "cell_type": "markdown",
      "metadata": {
        "id": "view-in-github",
        "colab_type": "text"
      },
      "source": [
        "<a href=\"https://colab.research.google.com/github/tharun7412/LetsUpgrade-Pyhton/blob/main/day_2_assignment.ipynb\" target=\"_parent\"><img src=\"https://colab.research.google.com/assets/colab-badge.svg\" alt=\"Open In Colab\"/></a>"
      ]
    },
    {
      "cell_type": "code",
      "metadata": {
        "colab": {
          "base_uri": "https://localhost:8080/"
        },
        "id": "_VGSnB8MRJom",
        "outputId": "230995cc-1eb9-4ef9-8466-0cad9594416e"
      },
      "source": [
        "A = int(input(\"enter the Altitude of the plane \"))\r\n",
        "\r\n",
        "if A <= 1000:\r\n",
        "    print(\"Safe to land the palne\") \r\n",
        "elif A <= 5000:\r\n",
        "    print(\"Bring down to 1000ft\")\r\n",
        "else:\r\n",
        "    print(\"go around and try later\")"
      ],
      "execution_count": 26,
      "outputs": [
        {
          "output_type": "stream",
          "text": [
            "enter the Altitude of the plane 450\n",
            "Safe to land the palne\n"
          ],
          "name": "stdout"
        }
      ]
    },
    {
      "cell_type": "code",
      "metadata": {
        "id": "IQQwgHI-VJvm",
        "colab": {
          "base_uri": "https://localhost:8080/"
        },
        "outputId": "7d26e559-bed9-4c30-ef0f-630ec229514e"
      },
      "source": [
        "A = int(input(\"enter the Altitude of the plane \"))\r\n",
        "\r\n",
        "if A <= 1000:\r\n",
        "    print(\"Safe to land the palne\") \r\n",
        "elif A <= 5000:\r\n",
        "    print(\"Bring down to 1000ft\")\r\n",
        "else:\r\n",
        "    print(\"go around and try later\")"
      ],
      "execution_count": 30,
      "outputs": [
        {
          "output_type": "stream",
          "text": [
            "enter the Altitude of the plane 1000\n",
            "Safe to land the palne\n"
          ],
          "name": "stdout"
        }
      ]
    },
    {
      "cell_type": "code",
      "metadata": {
        "colab": {
          "base_uri": "https://localhost:8080/"
        },
        "id": "5GqEIwn09yQe",
        "outputId": "9d9a6b16-3459-4d01-bf50-766b3150449e"
      },
      "source": [
        "A = int(input(\"enter the Altitude of the plane \"))\r\n",
        "\r\n",
        "if A <= 1000:\r\n",
        "    print(\"Safe to land the palne\") \r\n",
        "elif A <= 5000:\r\n",
        "    print(\"Bring down to 1000ft\")\r\n",
        "else:\r\n",
        "    print(\"go around and try later\")"
      ],
      "execution_count": 32,
      "outputs": [
        {
          "output_type": "stream",
          "text": [
            "enter the Altitude of the plane 3597\n",
            "Bring down to 1000ft\n"
          ],
          "name": "stdout"
        }
      ]
    },
    {
      "cell_type": "code",
      "metadata": {
        "colab": {
          "base_uri": "https://localhost:8080/"
        },
        "id": "Oln-qoId9-En",
        "outputId": "23a259ec-9cfc-4dfa-cabb-9883378eb7f7"
      },
      "source": [
        "A = int(input(\"enter the Altitude of the plane \"))\r\n",
        "\r\n",
        "if A <= 1000:\r\n",
        "    print(\"Safe to land the palne\") \r\n",
        "elif A <= 5000:\r\n",
        "    print(\"Bring down to 1000ft\")\r\n",
        "else:\r\n",
        "    print(\"go around and try later\")"
      ],
      "execution_count": 34,
      "outputs": [
        {
          "output_type": "stream",
          "text": [
            "enter the Altitude of the plane 5000\n",
            "Bring down to 1000ft\n"
          ],
          "name": "stdout"
        }
      ]
    },
    {
      "cell_type": "code",
      "metadata": {
        "colab": {
          "base_uri": "https://localhost:8080/"
        },
        "id": "eV3uNkMe-EIH",
        "outputId": "ff8bca65-0f86-4adf-f087-aa0bac4882c6"
      },
      "source": [
        "A = int(input(\"enter the Altitude of the plane \"))\r\n",
        "\r\n",
        "if A <= 1000:\r\n",
        "    print(\"Safe to land the palne\") \r\n",
        "elif A <= 5000:\r\n",
        "    print(\"Bring down to 1000ft\")\r\n",
        "else:\r\n",
        "    print(\"go around and try later\")"
      ],
      "execution_count": 35,
      "outputs": [
        {
          "output_type": "stream",
          "text": [
            "enter the Altitude of the plane 6000\n",
            "go around and try later\n"
          ],
          "name": "stdout"
        }
      ]
    }
  ]
}